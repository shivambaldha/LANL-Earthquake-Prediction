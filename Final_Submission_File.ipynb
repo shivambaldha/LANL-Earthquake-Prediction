{
 "cells": [
  {
   "cell_type": "markdown",
   "metadata": {},
   "source": [
    "# 1. Import Libraries"
   ]
  },
  {
   "cell_type": "code",
   "execution_count": 3,
   "metadata": {
    "colab": {
     "base_uri": "https://localhost:8080/"
    },
    "id": "XwiP_XEIye5m",
    "outputId": "04d18dc0-0af8-4fe3-99dc-71930542d5ec"
   },
   "outputs": [],
   "source": [
    "#Import the required libraries.\n",
    "import pandas as pd\n",
    "import matplotlib.pyplot as plt\n",
    "import numpy as np\n",
    "import seaborn as sns\n",
    "from scipy import stats\n",
    "import scipy\n",
    "from statsmodels import robust\n",
    "from scipy.stats import skew\n",
    "from scipy.stats import kurtosis\n",
    "from tqdm import tqdm\n",
    "from scipy import signal\n",
    "import lightgbm as lgb\n",
    "import pickle\n",
    "import os\n",
    "import joblib\n",
    "from sklearn.metrics import mean_absolute_error\n",
    "from sklearn.metrics import mean_absolute_percentage_error"
   ]
  },
  {
   "cell_type": "code",
   "execution_count": 8,
   "metadata": {
    "colab": {
     "base_uri": "https://localhost:8080/",
     "height": 206
    },
    "id": "kato1wvbWfBg",
    "outputId": "041ab093-2e91-4e15-abb4-ee14ff0389e5"
   },
   "outputs": [
    {
     "data": {
      "text/html": [
       "\n",
       "  <div id=\"df-f047edc8-af35-4d84-917a-7afe00aa0c58\">\n",
       "    <div class=\"colab-df-container\">\n",
       "      <div>\n",
       "<style scoped>\n",
       "    .dataframe tbody tr th:only-of-type {\n",
       "        vertical-align: middle;\n",
       "    }\n",
       "\n",
       "    .dataframe tbody tr th {\n",
       "        vertical-align: top;\n",
       "    }\n",
       "\n",
       "    .dataframe thead th {\n",
       "        text-align: right;\n",
       "    }\n",
       "</style>\n",
       "<table border=\"1\" class=\"dataframe\">\n",
       "  <thead>\n",
       "    <tr style=\"text-align: right;\">\n",
       "      <th></th>\n",
       "      <th>acoustic_data</th>\n",
       "      <th>time_to_failure</th>\n",
       "    </tr>\n",
       "  </thead>\n",
       "  <tbody>\n",
       "    <tr>\n",
       "      <th>0</th>\n",
       "      <td>12</td>\n",
       "      <td>1.4690999832</td>\n",
       "    </tr>\n",
       "    <tr>\n",
       "      <th>1</th>\n",
       "      <td>6</td>\n",
       "      <td>1.4690999821</td>\n",
       "    </tr>\n",
       "    <tr>\n",
       "      <th>2</th>\n",
       "      <td>8</td>\n",
       "      <td>1.4690999810</td>\n",
       "    </tr>\n",
       "    <tr>\n",
       "      <th>3</th>\n",
       "      <td>5</td>\n",
       "      <td>1.4690999799</td>\n",
       "    </tr>\n",
       "    <tr>\n",
       "      <th>4</th>\n",
       "      <td>8</td>\n",
       "      <td>1.4690999788</td>\n",
       "    </tr>\n",
       "  </tbody>\n",
       "</table>\n",
       "</div>\n",
       "      <button class=\"colab-df-convert\" onclick=\"convertToInteractive('df-f047edc8-af35-4d84-917a-7afe00aa0c58')\"\n",
       "              title=\"Convert this dataframe to an interactive table.\"\n",
       "              style=\"display:none;\">\n",
       "        \n",
       "  <svg xmlns=\"http://www.w3.org/2000/svg\" height=\"24px\"viewBox=\"0 0 24 24\"\n",
       "       width=\"24px\">\n",
       "    <path d=\"M0 0h24v24H0V0z\" fill=\"none\"/>\n",
       "    <path d=\"M18.56 5.44l.94 2.06.94-2.06 2.06-.94-2.06-.94-.94-2.06-.94 2.06-2.06.94zm-11 1L8.5 8.5l.94-2.06 2.06-.94-2.06-.94L8.5 2.5l-.94 2.06-2.06.94zm10 10l.94 2.06.94-2.06 2.06-.94-2.06-.94-.94-2.06-.94 2.06-2.06.94z\"/><path d=\"M17.41 7.96l-1.37-1.37c-.4-.4-.92-.59-1.43-.59-.52 0-1.04.2-1.43.59L10.3 9.45l-7.72 7.72c-.78.78-.78 2.05 0 2.83L4 21.41c.39.39.9.59 1.41.59.51 0 1.02-.2 1.41-.59l7.78-7.78 2.81-2.81c.8-.78.8-2.07 0-2.86zM5.41 20L4 18.59l7.72-7.72 1.47 1.35L5.41 20z\"/>\n",
       "  </svg>\n",
       "      </button>\n",
       "      \n",
       "  <style>\n",
       "    .colab-df-container {\n",
       "      display:flex;\n",
       "      flex-wrap:wrap;\n",
       "      gap: 12px;\n",
       "    }\n",
       "\n",
       "    .colab-df-convert {\n",
       "      background-color: #E8F0FE;\n",
       "      border: none;\n",
       "      border-radius: 50%;\n",
       "      cursor: pointer;\n",
       "      display: none;\n",
       "      fill: #1967D2;\n",
       "      height: 32px;\n",
       "      padding: 0 0 0 0;\n",
       "      width: 32px;\n",
       "    }\n",
       "\n",
       "    .colab-df-convert:hover {\n",
       "      background-color: #E2EBFA;\n",
       "      box-shadow: 0px 1px 2px rgba(60, 64, 67, 0.3), 0px 1px 3px 1px rgba(60, 64, 67, 0.15);\n",
       "      fill: #174EA6;\n",
       "    }\n",
       "\n",
       "    [theme=dark] .colab-df-convert {\n",
       "      background-color: #3B4455;\n",
       "      fill: #D2E3FC;\n",
       "    }\n",
       "\n",
       "    [theme=dark] .colab-df-convert:hover {\n",
       "      background-color: #434B5C;\n",
       "      box-shadow: 0px 1px 3px 1px rgba(0, 0, 0, 0.15);\n",
       "      filter: drop-shadow(0px 1px 2px rgba(0, 0, 0, 0.3));\n",
       "      fill: #FFFFFF;\n",
       "    }\n",
       "  </style>\n",
       "\n",
       "      <script>\n",
       "        const buttonEl =\n",
       "          document.querySelector('#df-f047edc8-af35-4d84-917a-7afe00aa0c58 button.colab-df-convert');\n",
       "        buttonEl.style.display =\n",
       "          google.colab.kernel.accessAllowed ? 'block' : 'none';\n",
       "\n",
       "        async function convertToInteractive(key) {\n",
       "          const element = document.querySelector('#df-f047edc8-af35-4d84-917a-7afe00aa0c58');\n",
       "          const dataTable =\n",
       "            await google.colab.kernel.invokeFunction('convertToInteractive',\n",
       "                                                     [key], {});\n",
       "          if (!dataTable) return;\n",
       "\n",
       "          const docLinkHtml = 'Like what you see? Visit the ' +\n",
       "            '<a target=\"_blank\" href=https://colab.research.google.com/notebooks/data_table.ipynb>data table notebook</a>'\n",
       "            + ' to learn more about interactive tables.';\n",
       "          element.innerHTML = '';\n",
       "          dataTable['output_type'] = 'display_data';\n",
       "          await google.colab.output.renderOutput(dataTable, element);\n",
       "          const docLink = document.createElement('div');\n",
       "          docLink.innerHTML = docLinkHtml;\n",
       "          element.appendChild(docLink);\n",
       "        }\n",
       "      </script>\n",
       "    </div>\n",
       "  </div>\n",
       "  "
      ],
      "text/plain": [
       "   acoustic_data  time_to_failure\n",
       "0             12     1.4690999832\n",
       "1              6     1.4690999821\n",
       "2              8     1.4690999810\n",
       "3              5     1.4690999799\n",
       "4              8     1.4690999788"
      ]
     },
     "execution_count": 8,
     "metadata": {},
     "output_type": "execute_result"
    }
   ],
   "source": [
    "#load the raw data\n",
    "df = pd.read_csv('train.csv')\n",
    "pd.options.display.precision = 12\n",
    "df.head()"
   ]
  },
  {
   "cell_type": "markdown",
   "metadata": {
    "id": "pFC1GpAdJMtU"
   },
   "source": [
    "# 2. Function 1\n",
    "### Function to predict the remaining time to the earthquake of the given acoustic signal."
   ]
  },
  {
   "cell_type": "code",
   "execution_count": 13,
   "metadata": {
    "id": "1yFXGpn3Ksu2"
   },
   "outputs": [],
   "source": [
    "def final_fuction_1(x):\n",
    "\n",
    "\n",
    "    '''This function takes raw data as acoustic signal value with the 150k data points as input and returns the remaining time of the next earthquake.'''\n",
    "\n",
    "    features = {}\n",
    "    image_pixel_feature = []\n",
    "    pixel_intensity = []\n",
    "    features['average_value'] = x.values.mean()\n",
    "    features['std_value'] = x.values.std()\n",
    "    features['max_value'] = x.values.max()\n",
    "    features['min_value'] = x.values.min()\n",
    "    features['kurtosis']  = x.kurtosis()\n",
    "    features['skew'] = x.skew()\n",
    "    features['MAD_value'] = robust.mad(x.values)\n",
    "    #take absolute values\n",
    "    features['abs_average_value'] = np.abs(x.values).mean()\n",
    "    features['abs_std_value'] = np.abs(x.values).std()\n",
    "    features['abs_max_value'] = np.abs(x.values).max()\n",
    "    features['abs_median'] = np.median(np.abs(x.values))\n",
    "    #take top 3 quantile\n",
    "    features['99_quantile'] = np.quantile(x.values, 0.99)\n",
    "    features['95_quantile'] = np.quantile(x.values, 0.95)\n",
    "    features['90_quantile'] = np.quantile(x.values, 0.90)\n",
    "    #take low 3 quantile\n",
    "    features['01_quantile'] = np.quantile(x.values, 0.01)\n",
    "    features['05_quantile'] = np.quantile(x.values, 0.05)\n",
    "    features['10_quantile'] = np.quantile(x.values, 0.10)\n",
    "    #take interquantile range\n",
    "    features['interquantile'] = np.quantile(x.values, 0.27) - np.quantile(x.values, 0.25)\n",
    "    #mean and std of last and first 5k datapoints\n",
    "    features['mean_of_first_50000'] = x[:50000].values.mean()\n",
    "    features['mean_of_last_50000'] = x[:-50000].values.mean()\n",
    "    \n",
    "    for i in [10,50,100,150,200]:\n",
    "        rolling_mean = x.rolling(i).mean().shift().dropna().values\n",
    "        rolling_std = x.rolling(i).std().shift().dropna().values\n",
    "\n",
    "        features['avg_of_'+ str(i)+'_rolling_mean'] = rolling_mean.mean()\n",
    "        features['std_of_'+ str(i)+'_rolling_mean'] = rolling_mean.std()\n",
    "        features['1_qua_of_'+ str(i)+'_rolling_mean'] = np.quantile(rolling_mean, 0.01)\n",
    "        features['5_qua_of_'+ str(i)+'_rolling_mean'] = np.quantile(rolling_mean, 0.05)\n",
    "        features['90_qua_of_'+ str(i)+'_rolling_mean'] = np.quantile(rolling_mean, 0.90)\n",
    "        features['95_qua_of_'+ str(i)+'_rolling_mean'] = np.quantile(rolling_mean, 0.95)\n",
    "        features['skew_of'+ str(i)+'_rolling_mean'] = skew(rolling_mean)\n",
    "        features['kurtosis_of'+ str(i)+'_rolling_mean'] = kurtosis(rolling_mean)\n",
    "        features['min_of'+ str(i)+'_rolling_mean'] = rolling_mean.min()\n",
    "        features['max_of'+ str(i)+'_rolling_mean'] = rolling_mean.max()\n",
    "        features['interquantile_of' + str(i)+'_rolling_mean'] = np.quantile(rolling_mean, 0.27) - np.quantile(rolling_mean, 0.25)\n",
    "\n",
    "        features['avg_of_'+ str(i)+'_rolling_std'] = rolling_std.mean()\n",
    "        features['std_of_'+ str(i)+'_rolling_std'] = rolling_std.std()\n",
    "        features['1_qua_of_'+ str(i)+'_rolling_std'] = np.quantile(rolling_std, 0.01)\n",
    "        features['5_qua_of_'+ str(i)+'_rolling_std'] = np.quantile(rolling_std, 0.05)\n",
    "        features['90_qua_of_'+ str(i)+'_rolling_std'] = np.quantile(rolling_std, 0.90)\n",
    "        features['95_qua_of_'+ str(i)+'_rolling_std'] = np.quantile(rolling_std, 0.95)\n",
    "        features['skew_of'+ str(i)+'_rolling_std'] = skew(rolling_std)\n",
    "        features['kurtosis_of'+ str(i)+'_rolling_std'] = kurtosis(rolling_std)\n",
    "        features['min_of'+ str(i)+'_rolling_std'] = rolling_std.min()\n",
    "        features['max_of'+ str(i)+'_rolling_std'] = rolling_std.max()\n",
    "        features['interquantile_of' + str(i)+'rolling_std'] = np.quantile(rolling_std, 0.27) - np.quantile(rolling_std, 0.25)\n",
    "    feature_df = pd.DataFrame(features , index=[0])\n",
    "        \n",
    "    frequencies, times, spectrogram = signal.spectrogram(x)\n",
    "    pixel_intensity.append(spectrogram.flatten()[:500])\n",
    "    for i in range(500):\n",
    "        image_pixel_feature.append('PI' + str(i))\n",
    "    img_df = pd.DataFrame(pixel_intensity , columns = image_pixel_feature)\n",
    "    result = pd.concat([feature_df , img_df], axis=1, join=\"inner\")\n",
    "    #print(result)\n",
    "    \n",
    "    model = joblib.load('model.pkl')\n",
    "    predict = model.predict(result)\n",
    "    return predict[0]"
   ]
  },
  {
   "cell_type": "code",
   "execution_count": 58,
   "metadata": {
    "id": "adRAZ5fVXKfW"
   },
   "outputs": [],
   "source": [
    "#load the submission files\n",
    "file = os.listdir('test')"
   ]
  },
  {
   "cell_type": "code",
   "execution_count": 63,
   "metadata": {
    "colab": {
     "base_uri": "https://localhost:8080/",
     "height": 415
    },
    "id": "prkrvhzMXKhb",
    "outputId": "b184c005-4c7b-47dd-82e1-911bed77d505"
   },
   "outputs": [
    {
     "name": "stderr",
     "output_type": "stream",
     "text": [
      "/usr/local/lib/python3.7/dist-packages/scipy/signal/spectral.py:1966: UserWarning: nperseg = 256 is greater than input length  = 1, using nperseg = 1\n",
      "  .format(nperseg, input_length))\n"
     ]
    },
    {
     "name": "stdout",
     "output_type": "stream",
     "text": [
      "First 10 test values\n"
     ]
    },
    {
     "data": {
      "text/html": [
       "\n",
       "  <div id=\"df-ca280ace-7709-4f7c-8d84-02b2c1a5de09\">\n",
       "    <div class=\"colab-df-container\">\n",
       "      <div>\n",
       "<style scoped>\n",
       "    .dataframe tbody tr th:only-of-type {\n",
       "        vertical-align: middle;\n",
       "    }\n",
       "\n",
       "    .dataframe tbody tr th {\n",
       "        vertical-align: top;\n",
       "    }\n",
       "\n",
       "    .dataframe thead th {\n",
       "        text-align: right;\n",
       "    }\n",
       "</style>\n",
       "<table border=\"1\" class=\"dataframe\">\n",
       "  <thead>\n",
       "    <tr style=\"text-align: right;\">\n",
       "      <th></th>\n",
       "      <th>seg_id</th>\n",
       "      <th>time_to_failure</th>\n",
       "    </tr>\n",
       "  </thead>\n",
       "  <tbody>\n",
       "    <tr>\n",
       "      <th>0</th>\n",
       "      <td>seg_91fc29</td>\n",
       "      <td>4.086350737801</td>\n",
       "    </tr>\n",
       "    <tr>\n",
       "      <th>1</th>\n",
       "      <td>seg_3bf9ac</td>\n",
       "      <td>3.559697400345</td>\n",
       "    </tr>\n",
       "    <tr>\n",
       "      <th>2</th>\n",
       "      <td>seg_fdd50e</td>\n",
       "      <td>4.182634120947</td>\n",
       "    </tr>\n",
       "    <tr>\n",
       "      <th>3</th>\n",
       "      <td>seg_5bfbf0</td>\n",
       "      <td>4.713009147515</td>\n",
       "    </tr>\n",
       "    <tr>\n",
       "      <th>4</th>\n",
       "      <td>seg_3706be</td>\n",
       "      <td>9.372532944312</td>\n",
       "    </tr>\n",
       "    <tr>\n",
       "      <th>5</th>\n",
       "      <td>seg_a420d4</td>\n",
       "      <td>4.572280076521</td>\n",
       "    </tr>\n",
       "    <tr>\n",
       "      <th>6</th>\n",
       "      <td>seg_660fef</td>\n",
       "      <td>7.878057238005</td>\n",
       "    </tr>\n",
       "    <tr>\n",
       "      <th>7</th>\n",
       "      <td>seg_7ebdc3</td>\n",
       "      <td>5.594973117422</td>\n",
       "    </tr>\n",
       "    <tr>\n",
       "      <th>8</th>\n",
       "      <td>seg_1d044c</td>\n",
       "      <td>5.342727186881</td>\n",
       "    </tr>\n",
       "    <tr>\n",
       "      <th>9</th>\n",
       "      <td>seg_15bf25</td>\n",
       "      <td>9.949539091456</td>\n",
       "    </tr>\n",
       "  </tbody>\n",
       "</table>\n",
       "</div>\n",
       "      <button class=\"colab-df-convert\" onclick=\"convertToInteractive('df-ca280ace-7709-4f7c-8d84-02b2c1a5de09')\"\n",
       "              title=\"Convert this dataframe to an interactive table.\"\n",
       "              style=\"display:none;\">\n",
       "        \n",
       "  <svg xmlns=\"http://www.w3.org/2000/svg\" height=\"24px\"viewBox=\"0 0 24 24\"\n",
       "       width=\"24px\">\n",
       "    <path d=\"M0 0h24v24H0V0z\" fill=\"none\"/>\n",
       "    <path d=\"M18.56 5.44l.94 2.06.94-2.06 2.06-.94-2.06-.94-.94-2.06-.94 2.06-2.06.94zm-11 1L8.5 8.5l.94-2.06 2.06-.94-2.06-.94L8.5 2.5l-.94 2.06-2.06.94zm10 10l.94 2.06.94-2.06 2.06-.94-2.06-.94-.94-2.06-.94 2.06-2.06.94z\"/><path d=\"M17.41 7.96l-1.37-1.37c-.4-.4-.92-.59-1.43-.59-.52 0-1.04.2-1.43.59L10.3 9.45l-7.72 7.72c-.78.78-.78 2.05 0 2.83L4 21.41c.39.39.9.59 1.41.59.51 0 1.02-.2 1.41-.59l7.78-7.78 2.81-2.81c.8-.78.8-2.07 0-2.86zM5.41 20L4 18.59l7.72-7.72 1.47 1.35L5.41 20z\"/>\n",
       "  </svg>\n",
       "      </button>\n",
       "      \n",
       "  <style>\n",
       "    .colab-df-container {\n",
       "      display:flex;\n",
       "      flex-wrap:wrap;\n",
       "      gap: 12px;\n",
       "    }\n",
       "\n",
       "    .colab-df-convert {\n",
       "      background-color: #E8F0FE;\n",
       "      border: none;\n",
       "      border-radius: 50%;\n",
       "      cursor: pointer;\n",
       "      display: none;\n",
       "      fill: #1967D2;\n",
       "      height: 32px;\n",
       "      padding: 0 0 0 0;\n",
       "      width: 32px;\n",
       "    }\n",
       "\n",
       "    .colab-df-convert:hover {\n",
       "      background-color: #E2EBFA;\n",
       "      box-shadow: 0px 1px 2px rgba(60, 64, 67, 0.3), 0px 1px 3px 1px rgba(60, 64, 67, 0.15);\n",
       "      fill: #174EA6;\n",
       "    }\n",
       "\n",
       "    [theme=dark] .colab-df-convert {\n",
       "      background-color: #3B4455;\n",
       "      fill: #D2E3FC;\n",
       "    }\n",
       "\n",
       "    [theme=dark] .colab-df-convert:hover {\n",
       "      background-color: #434B5C;\n",
       "      box-shadow: 0px 1px 3px 1px rgba(0, 0, 0, 0.15);\n",
       "      filter: drop-shadow(0px 1px 2px rgba(0, 0, 0, 0.3));\n",
       "      fill: #FFFFFF;\n",
       "    }\n",
       "  </style>\n",
       "\n",
       "      <script>\n",
       "        const buttonEl =\n",
       "          document.querySelector('#df-ca280ace-7709-4f7c-8d84-02b2c1a5de09 button.colab-df-convert');\n",
       "        buttonEl.style.display =\n",
       "          google.colab.kernel.accessAllowed ? 'block' : 'none';\n",
       "\n",
       "        async function convertToInteractive(key) {\n",
       "          const element = document.querySelector('#df-ca280ace-7709-4f7c-8d84-02b2c1a5de09');\n",
       "          const dataTable =\n",
       "            await google.colab.kernel.invokeFunction('convertToInteractive',\n",
       "                                                     [key], {});\n",
       "          if (!dataTable) return;\n",
       "\n",
       "          const docLinkHtml = 'Like what you see? Visit the ' +\n",
       "            '<a target=\"_blank\" href=https://colab.research.google.com/notebooks/data_table.ipynb>data table notebook</a>'\n",
       "            + ' to learn more about interactive tables.';\n",
       "          element.innerHTML = '';\n",
       "          dataTable['output_type'] = 'display_data';\n",
       "          await google.colab.output.renderOutput(dataTable, element);\n",
       "          const docLink = document.createElement('div');\n",
       "          docLink.innerHTML = docLinkHtml;\n",
       "          element.appendChild(docLink);\n",
       "        }\n",
       "      </script>\n",
       "    </div>\n",
       "  </div>\n",
       "  "
      ],
      "text/plain": [
       "       seg_id  time_to_failure\n",
       "0  seg_91fc29   4.086350737801\n",
       "1  seg_3bf9ac   3.559697400345\n",
       "2  seg_fdd50e   4.182634120947\n",
       "3  seg_5bfbf0   4.713009147515\n",
       "4  seg_3706be   9.372532944312\n",
       "5  seg_a420d4   4.572280076521\n",
       "6  seg_660fef   7.878057238005\n",
       "7  seg_7ebdc3   5.594973117422\n",
       "8  seg_1d044c   5.342727186881\n",
       "9  seg_15bf25   9.949539091456"
      ]
     },
     "execution_count": 63,
     "metadata": {},
     "output_type": "execute_result"
    }
   ],
   "source": [
    "file_name = []\n",
    "predict_value = []\n",
    "for i in file:\n",
    "    csv = pd.read_csv('test/' + i)\n",
    "    pre = final_fuction_1(csv)\n",
    "    predict_value.append(pre)\n",
    "    file_name.append(i.split('.')[0])\n",
    "\n",
    "test = pd.DataFrame()\n",
    "test['seg_id'] = file_name\n",
    "test['time_to_failure'] = predict_value\n",
    "print('First 10 test values')\n",
    "test.head(10)"
   ]
  },
  {
   "cell_type": "markdown",
   "metadata": {},
   "source": [
    "# 3. Function 2\n",
    "### Function to calculate the performance metrics and show the values of the given raw data"
   ]
  },
  {
   "cell_type": "code",
   "execution_count": 2,
   "metadata": {
    "id": "6OQMW2mlLKKz"
   },
   "outputs": [],
   "source": [
    "def final_fuction_2(x , y):\n",
    "    sample_value = 150000\n",
    "    size = len(x) // sample_value\n",
    "    actual_y = []\n",
    "    predict_y = []\n",
    "    for i in (range(size)):\n",
    "        X = x[i*sample_value :i*sample_value + sample_value]\n",
    "        Y = y[i*sample_value :i*sample_value + sample_value]\n",
    "        actual_y.append(Y.values[-1])\n",
    "        predict_y.append(final_fuction_1(X))\n",
    "\n",
    "    return print('The mean absolute error is {} and The mean absolute percentage error is {} on the row data.'.format(mean_absolute_error(actual_y, predict_y) , mean_absolute_percentage_error(actual_y, predict_y)))"
   ]
  },
  {
   "cell_type": "code",
   "execution_count": 51,
   "metadata": {
    "id": "5XEcB64MLNkw"
   },
   "outputs": [],
   "source": [
    "#load the raw data\n",
    "x = df.acoustic_data\n",
    "y = df.time_to_failure"
   ]
  },
  {
   "cell_type": "code",
   "execution_count": 53,
   "metadata": {
    "colab": {
     "base_uri": "https://localhost:8080/"
    },
    "id": "01f8uI0sLPyh",
    "outputId": "ba5f4295-94b0-45c9-a53a-e5c3181d8fdc"
   },
   "outputs": [
    {
     "name": "stdout",
     "output_type": "stream",
     "text": [
      "The mean absolute error is 1.2279812288577636 and The mean absolute percentage error is 2.102233799325241 on the row data.\n"
     ]
    }
   ],
   "source": [
    "final_fuction_2(x , y)"
   ]
  },
  {
   "cell_type": "markdown",
   "metadata": {
    "id": "hqucwFPuSe7s"
   },
   "source": [
    "## Web app"
   ]
  },
  {
   "cell_type": "markdown",
   "metadata": {
    "id": "raATVgq3Sgl-"
   },
   "source": [
    "Link of web app https://share.streamlit.io/shivambaldha/earthquake-prediction/main/app.py"
   ]
  },
  {
   "cell_type": "code",
   "execution_count": 7,
   "metadata": {},
   "outputs": [
    {
     "data": {
      "image/jpeg": "[encoded data removed]",
      "text/html": [
       "\n",
       "        <iframe\n",
       "            width=\"800\"\n",
       "            height=\"800\"\n",
       "            src=\"https://www.youtube.com/embed/_W1WXxQEcpI\"\n",
       "            frameborder=\"0\"\n",
       "            allowfullscreen\n",
       "            \n",
       "        ></iframe>\n",
       "        "
      ],
      "text/plain": [
       "<IPython.lib.display.YouTubeVideo at 0x1c8e609c8b0>"
      ]
     },
     "execution_count": 7,
     "metadata": {},
     "output_type": "execute_result"
    }
   ],
   "source": [
    "#code taken from https://stackoverflow.com/questions/51178699/trying-to-display-youtube-video-in-jupyter-notebook\n",
    "from IPython.display import YouTubeVideo\n",
    "\n",
    "YouTubeVideo('_W1WXxQEcpI', width=800, height=800)"
   ]
  },
  {
   "cell_type": "code",
   "execution_count": null,
   "metadata": {},
   "outputs": [],
   "source": []
  }
 ],
 "metadata": {
  "accelerator": "TPU",
  "colab": {
   "collapsed_sections": [],
   "machine_shape": "hm",
   "name": "Copy of HACKANONS COLAB 25GB RAM.ipynb",
   "provenance": []
  },
  "kernelspec": {
   "display_name": "Python 3 (ipykernel)",
   "language": "python",
   "name": "python3"
  },
  "language_info": {
   "codemirror_mode": {
    "name": "ipython",
    "version": 3
   },
   "file_extension": ".py",
   "mimetype": "text/x-python",
   "name": "python",
   "nbconvert_exporter": "python",
   "pygments_lexer": "ipython3",
   "version": "3.8.0rc1"
  }
 },
 "nbformat": 4,
 "nbformat_minor": 1
}
