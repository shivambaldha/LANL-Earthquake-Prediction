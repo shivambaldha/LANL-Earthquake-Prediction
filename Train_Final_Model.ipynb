{
 "cells": [
  {
   "cell_type": "markdown",
   "id": "d7a1a293",
   "metadata": {},
   "source": [
    "# Training Model using the best Dataset and best Model"
   ]
  },
  {
   "cell_type": "code",
   "execution_count": 3,
   "id": "c6f0c2cd",
   "metadata": {},
   "outputs": [],
   "source": [
    "import joblib\n",
    "import lightgbm as lgb\n",
    "train = joblib.load(open('train.pkl', 'rb'))\n",
    "y = train.time_to_failure\n",
    "x = train.drop('time_to_failure' , axis = 1)\n",
    "clf = lgb.LGBMRegressor(boosting_type='gbdt' , max_depth = 10 ,n_estimators = 50)\n",
    "clf.fit(x , y)\n",
    "joblib.dump(clf, 'model.pkl')"
   ]
  },
  {
   "cell_type": "code",
   "execution_count": 7,
   "id": "f8c9570d",
   "metadata": {},
   "outputs": [
    {
     "data": {
      "text/plain": [
       "['model.pkl']"
      ]
     },
     "execution_count": 7,
     "metadata": {},
     "output_type": "execute_result"
    }
   ],
   "source": [
    "import lightgbm as lgb\n",
    "clf = lgb.LGBMRegressor(boosting_type='gbdt' , max_depth = 10 ,n_estimators = 50)\n",
    "clf.fit(x , y)\n",
    "joblib.dump(clf, 'model.pkl')"
   ]
  }
 ],
 "metadata": {
  "kernelspec": {
   "display_name": "Python 3 (ipykernel)",
   "language": "python",
   "name": "python3"
  },
  "language_info": {
   "codemirror_mode": {
    "name": "ipython",
    "version": 3
   },
   "file_extension": ".py",
   "mimetype": "text/x-python",
   "name": "python",
   "nbconvert_exporter": "python",
   "pygments_lexer": "ipython3",
   "version": "3.8.0rc1"
  }
 },
 "nbformat": 4,
 "nbformat_minor": 5
}
